{
 "cells": [
  {
   "cell_type": "code",
   "execution_count": 16,
   "metadata": {},
   "outputs": [],
   "source": [
    "import torch\n",
    "import torch.nn as nn\n",
    "import random\n",
    "from torch.utils.data.dataloader import DataLoader\n",
    "import numpy as np\n",
    "from torch.optim.lr_scheduler import StepLR\n",
    "import copy\n",
    "import matplotlib.pyplot as plt\n",
    "from sklearn.metrics import mean_squared_error\n",
    "from math import sqrt\n",
    "from tqdm import *"
   ]
  },
  {
   "cell_type": "code",
   "execution_count": 24,
   "metadata": {},
   "outputs": [],
   "source": [
    "seq_len = 30\n",
    "data = np.random.rand(2000,6)\n",
    "\n",
    "dataX = data[:, :5]\n",
    "dataY = data[:, 5].reshape(-1, 1)\n",
    "dataZ = np.empty([data.shape[0]-seq_len, seq_len])\n",
    "for i in range(data.shape[0] - seq_len):\n",
    "    for j in range(seq_len):\n",
    "        dataZ[i,j] = dataY[j + i, 0]\n",
    "dataZ = np.array(dataZ)\n",
    "dataZ = torch.from_numpy(dataZ).float()\n",
    "dataX = torch.from_numpy(dataX[seq_len:]).float()\n",
    "dataY = torch.from_numpy(dataY[seq_len:]).float()\n",
    "\n",
    "dataset = np.concatenate((dataX, dataZ, dataY), axis=1)"
   ]
  },
  {
   "cell_type": "code",
   "execution_count": 1,
   "metadata": {},
   "outputs": [
    {
     "name": "stdout",
     "output_type": "stream",
     "text": [
      "[3, 4]\n"
     ]
    }
   ],
   "source": [
    "a = [1, 2, 3, 4, 5]\n",
    "print(a[2:4])"
   ]
  },
  {
   "cell_type": "code",
   "execution_count": 5,
   "metadata": {},
   "outputs": [],
   "source": [
    "import numpy as np\n",
    "data = []\n",
    "data.append(np.random.rand(3,6))\n",
    "data.append(np.random.rand(3,6))\n",
    "data.append(np.random.rand(3,6))\n",
    "a = [1, 2, 3, 4, 5]\n",
    "b = [1, 2, 3, 4, 5]\n",
    "\n",
    "inputs = np.concatenate((a, b), axis=0)\n",
    "# inputs = np.concatenate((a, data[1][-1, 2:6]), axis=1)"
   ]
  }
 ],
 "metadata": {
  "kernelspec": {
   "display_name": "zjjtorch",
   "language": "python",
   "name": "python3"
  },
  "language_info": {
   "codemirror_mode": {
    "name": "ipython",
    "version": 3
   },
   "file_extension": ".py",
   "mimetype": "text/x-python",
   "name": "python",
   "nbconvert_exporter": "python",
   "pygments_lexer": "ipython3",
   "version": "3.10.13"
  }
 },
 "nbformat": 4,
 "nbformat_minor": 2
}

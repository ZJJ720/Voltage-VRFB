{
 "cells": [
  {
   "cell_type": "code",
   "execution_count": 2,
   "metadata": {},
   "outputs": [],
   "source": [
    "from openpyxl import load_workbook\n",
    "\n",
    "for k in range(1,7):\n",
    "    excel_path = f\"data/test{k}.xlsx\"\n",
    "    wb = load_workbook(excel_path)\n",
    "    ws=wb.active\n",
    "    max_row_num = ws.max_row #最大行数\n",
    "    data = []\n",
    "\n",
    "    row_n = 1 #起始行\n",
    "    col_n = 6 #目标列\n",
    "    row_n_new = 31 #起始行\n",
    "    col_n_new = 6 #目标列\n",
    "    while row_n <= max_row_num:\n",
    "        data.append(ws.cell(row=row_n,column=col_n).value)\n",
    "        row_n+=1\n",
    "\n",
    "\n",
    "    i = 0 \n",
    "    while row_n_new <= max_row_num:\n",
    "        for j in range(30):\n",
    "            ws.cell(row=row_n_new,column=col_n_new+j).value = data[i+j]\n",
    "        ws.cell(row=row_n_new,column=col_n_new+30).value = data[i+30]\n",
    "        i=i+1\n",
    "        row_n_new=row_n_new+1\n",
    "\n",
    "        \n",
    "    wb.save(filename=f\"data/test{k}_past.xlsx\")\n",
    "    wb.close "
   ]
  }
 ],
 "metadata": {
  "kernelspec": {
   "display_name": "zjjtorch",
   "language": "python",
   "name": "python3"
  },
  "language_info": {
   "codemirror_mode": {
    "name": "ipython",
    "version": 3
   },
   "file_extension": ".py",
   "mimetype": "text/x-python",
   "name": "python",
   "nbconvert_exporter": "python",
   "pygments_lexer": "ipython3",
   "version": "3.10.13"
  }
 },
 "nbformat": 4,
 "nbformat_minor": 2
}

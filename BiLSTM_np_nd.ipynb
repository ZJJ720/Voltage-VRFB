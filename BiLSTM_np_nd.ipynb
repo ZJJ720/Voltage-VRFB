{
 "cells": [
  {
   "cell_type": "markdown",
   "metadata": {},
   "source": [
    "配置环境"
   ]
  },
  {
   "cell_type": "code",
   "execution_count": 15,
   "metadata": {},
   "outputs": [],
   "source": [
    "# 导入必要的库\n",
    "import torch\n",
    "import torch.nn as nn\n",
    "import random\n",
    "from torch.utils.data.dataloader import DataLoader\n",
    "import numpy as np\n",
    "from torch.optim.lr_scheduler import StepLR\n",
    "import copy\n",
    "import matplotlib.pyplot as plt\n",
    "from sklearn.metrics import mean_squared_error\n",
    "from math import sqrt\n",
    "from tools_np_nd import *\n",
    "\n",
    "def setup_seed(seed):\n",
    "    torch.manual_seed(seed)\n",
    "    torch.cuda.manual_seed_all(seed)\n",
    "    np.random.seed(seed)\n",
    "    random.seed(seed)\n",
    "    torch.backends.cudnn.deterministic = True\n",
    "\n",
    "\n",
    "# 设置随机数种子\n",
    "setup_seed(27)\n",
    "\n",
    "device = torch.device(\"cuda:0\" if torch.cuda.is_available() else \"cpu\")"
   ]
  },
  {
   "cell_type": "markdown",
   "metadata": {},
   "source": [
    "定义超参数"
   ]
  },
  {
   "cell_type": "code",
   "execution_count": 16,
   "metadata": {},
   "outputs": [],
   "source": [
    "# 定义超参数\n",
    "batch_size = 5 # 批次大小\n",
    "learning_rate = 0.001 # 学习率\n",
    "num_epochs = 100 # 训练轮数\n",
    "train_length = 0.8 # 训练数据长度\n",
    "step_size     = 20 # 学习率变化周期\n",
    "gamma         = 0.1 # 学习率更新值\n",
    "learning_rate = 0.002 # 学习率"
   ]
  },
  {
   "cell_type": "markdown",
   "metadata": {},
   "source": [
    "数据预处理"
   ]
  },
  {
   "cell_type": "code",
   "execution_count": 17,
   "metadata": {},
   "outputs": [],
   "source": [
    "# 创建训练数据集和测试数据集\n",
    "\n",
    "train_data = create_train_dataset()\n",
    "test_data = create_test_dataset()\n",
    "\n",
    "# 分离出训练集和测试集\n",
    "\n",
    "train =  train_data\n",
    "np.random.shuffle(train)\n",
    "\n",
    "\n",
    "# 数据归一化\n",
    "scaler, train_scaled = train_scale(train)\n",
    "dataset = DataPrepare(train_scaled) # 设置 inputs 和 labels\n",
    "train_loader = DataLoader(dataset=dataset, batch_size=batch_size, shuffle=False, drop_last=True)"
   ]
  },
  {
   "cell_type": "markdown",
   "metadata": {},
   "source": [
    "BiLSTM 模型"
   ]
  },
  {
   "cell_type": "code",
   "execution_count": 18,
   "metadata": {},
   "outputs": [],
   "source": [
    "# 定义 BiLSTM 模型\n",
    "class BiLSTM(nn.Module):\n",
    "    def __init__(self, input_size = 5, hidden_size = 100, num_layers = 2, output_size = 1):\n",
    "        super(BiLSTM, self).__init__()\n",
    "        self.hidden_size = hidden_size\n",
    "        self.num_layers = num_layers\n",
    "        self.bilstm = nn.LSTM(input_size, hidden_size, num_layers, batch_first=True, bidirectional=True)\n",
    "        self.fc = nn.Linear(hidden_size*2, output_size) # 乘以2是因为双向的输出要拼接\n",
    "\n",
    "    def forward(self, x):\n",
    "        # 初始化隐藏状态和细胞状态\n",
    "        h0 = torch.zeros(self.num_layers*2, x.size(0), self.hidden_size).to(device) # 乘以2是因为双向的隐藏层要分开\n",
    "        c0 = torch.zeros(self.num_layers*2, x.size(0), self.hidden_size).to(device)\n",
    "        # 通过 BiLSTM 层\n",
    "        out, _ = self.bilstm(x, (h0, c0))\n",
    "        # 取最后一个时间步的输出\n",
    "        out = out[:, -1, :]\n",
    "        # 通过全连接层\n",
    "        out = self.fc(out)\n",
    "        return out\n",
    "\n",
    "# 创建模型实例\n",
    "model = BiLSTM().to(device)\n",
    "\n",
    "# 定义损失函数和优化器\n",
    "loss_function = nn.MSELoss()\n",
    "loss_function = loss_function.to(device)\n",
    "optimizer = torch.optim.Adam(model.parameters(), lr=learning_rate) # Adam 优化器\n",
    "scheduler = StepLR(optimizer, step_size=step_size, gamma=gamma)"
   ]
  },
  {
   "cell_type": "markdown",
   "metadata": {},
   "source": [
    "训练模型"
   ]
  },
  {
   "cell_type": "code",
   "execution_count": 19,
   "metadata": {},
   "outputs": [
    {
     "name": "stdout",
     "output_type": "stream",
     "text": [
      "epoch 0 train_loss 0.00415415\n",
      "epoch 10 train_loss 0.00065380\n",
      "epoch 20 train_loss 0.00040624\n",
      "epoch 30 train_loss 0.00037097\n",
      "epoch 40 train_loss 0.00035120\n",
      "epoch 50 train_loss 0.00034941\n",
      "epoch 60 train_loss 0.00034730\n",
      "epoch 70 train_loss 0.00034704\n",
      "epoch 80 train_loss 0.00034676\n",
      "epoch 90 train_loss 0.00034673\n"
     ]
    }
   ],
   "source": [
    "# 训练模型\n",
    "min_epochs = 10\n",
    "best_model = None\n",
    "min_loss = 0.2\n",
    "\n",
    "for epoch in range(num_epochs):\n",
    "    model.train()\n",
    "    train_loss = []\n",
    "    for i, data in enumerate(train_loader, 0):\n",
    "        inputs, labels = data\n",
    "        inputs, labels = inputs.to(device), labels.to(device)\n",
    "        inputs = inputs.reshape(batch_size, 1, 5)\n",
    "\n",
    "        # 梯度清零\n",
    "        optimizer.zero_grad()\n",
    "        inputs = inputs.to(torch.float32)\n",
    "        labels = labels.to(torch.float32)\n",
    "        \n",
    "        # 前向传播\n",
    "        y_pred = model(inputs)\n",
    "        \n",
    "        # 计算损失\n",
    "        loss = loss_function(labels, y_pred)\n",
    "        train_loss.append(loss.cpu().item())\n",
    "        \n",
    "        # 更新梯度\n",
    "        loss.backward()\n",
    "        \n",
    "        # 优化参数\n",
    "        optimizer.step()\n",
    "\n",
    "\n",
    "    scheduler.step()  # 调整学习率\n",
    "\n",
    "    if epoch > min_epochs and np.mean(train_loss) < min_loss:\n",
    "        min_loss = np.mean(train_loss)\n",
    "        best_model = copy.deepcopy(model)\n",
    "        \n",
    "    \n",
    "    if epoch % 10 == 0:\n",
    "        print('epoch {} train_loss {:.8f}'.format(epoch, np.mean(train_loss)))\n",
    "\n",
    "torch.save(model, r'./result_np_nd/BiLSTM_model_np_nd.pth')"
   ]
  },
  {
   "cell_type": "markdown",
   "metadata": {},
   "source": [
    "测试模型"
   ]
  },
  {
   "cell_type": "code",
   "execution_count": 20,
   "metadata": {},
   "outputs": [
    {
     "name": "stdout",
     "output_type": "stream",
     "text": [
      "BiLSTM(\n",
      "  (bilstm): LSTM(5, 100, num_layers=2, batch_first=True, bidirectional=True)\n",
      "  (fc): Linear(in_features=200, out_features=1, bias=True)\n",
      ")\n",
      "Forecasting Testing Data\n",
      "Test RMSE: 0.01778997\n"
     ]
    }
   ],
   "source": [
    "# 测试模型\n",
    "scaler, test_scaled = test_scale(test_data)\n",
    "\n",
    "with torch.no_grad():\n",
    "    model = torch.load(\"./result_np_nd/BiLSTM_model_np_nd.pth\")\n",
    "    print(model)\n",
    "    \n",
    "    # 预测测试数据\n",
    "    print('Forecasting Testing Data')\n",
    "    predictions_test = list() # 预测值\n",
    "    expected = list() # 真实值\n",
    "    test_dataset = DataPrepare(test_scaled) # 分离 inputs 和 labels\n",
    "    test_loader = DataLoader(dataset=test_dataset, batch_size=batch_size, shuffle=False, drop_last=True) # 加载数据\n",
    "    for i, data in enumerate(test_loader, 0):\n",
    "        # make one-step forecast\n",
    "        inputs, labels = data\n",
    "        inputs, labels = inputs.to(device), labels.to(device)\n",
    "        inputs = inputs.reshape(batch_size, 1, 5)\n",
    "        inputs = inputs.to(torch.float32)\n",
    "        labels = labels.to(torch.float32)\n",
    "\n",
    "        # yhat 为预测值\n",
    "        yhat = model(inputs)\n",
    "        \n",
    "        for j in range(yhat.shape[0]):\n",
    "            yhat[j] = invert_scale(scaler, inputs[j].reshape(5, -1).cpu().numpy(), \n",
    "            yhat[j].cpu().detach().numpy())\n",
    "            labels[j] = invert_scale(scaler, inputs[j].reshape(5, -1).cpu().numpy(),\n",
    "            labels[j].cpu().detach().numpy())\n",
    "            predictions_test.append(yhat[j].cpu().detach().numpy()) # 预测值序列\n",
    "            expected.append(labels[j].cpu().detach().numpy()) # 真实值序列\n",
    "        \n",
    "\n",
    "    # RMSE 评价指标\n",
    "    rmse_test = sqrt(mean_squared_error(np.array(expected) / 2, np.array(predictions_test) / 2))\n",
    "    print('Test RMSE: %.8f' % rmse_test)"
   ]
  },
  {
   "cell_type": "markdown",
   "metadata": {},
   "source": [
    "后处理"
   ]
  },
  {
   "cell_type": "code",
   "execution_count": 21,
   "metadata": {},
   "outputs": [
    {
     "data": {
      "image/png": "[encoded data removed]",
      "text/plain": [
       "<Figure size 640x480 with 1 Axes>"
      ]
     },
     "metadata": {},
     "output_type": "display_data"
    }
   ],
   "source": [
    "# 绘制 Voltage 预测图像\n",
    "# 创建横坐标\n",
    "data_num = len(expected)\n",
    "Cyc_X = np.linspace(0, data_num, data_num)\n",
    "fig = plt.figure()\n",
    "sub = fig.add_subplot(111) # 1*1 的网格中第一个图像\n",
    "sub.plot(expected, c='dodgerblue', label='Real Voltage', linewidth=1.5)\n",
    "sub.plot(predictions_test, c='coral', label='Predicted Voltage', linewidth=1.5)\n",
    "\n",
    "# 设置坐标轴\n",
    "ax = plt.gca()\n",
    "ax.spines['bottom'].set_linewidth(1)\n",
    "ax.spines['left'].set_linewidth(1)\n",
    "ax.spines['right'].set_linewidth(1)\n",
    "ax.spines['top'].set_linewidth(1)\n",
    "plt.tick_params(labelsize=10) # 刻度标签字体大小\n",
    "plt.legend(loc=1, edgecolor='w') # 创建图例\n",
    "plt.ylabel('U(V)')\n",
    "plt.xlabel('T(s)')\n",
    "plt.title('BiLSTM Voltage Estimation')\n",
    "plt.savefig(r'./result_np_nd/Voltage_result.png')\n",
    "plt.show()"
   ]
  }
 ],
 "metadata": {
  "kernelspec": {
   "display_name": "zjjtorch",
   "language": "python",
   "name": "python3"
  },
  "language_info": {
   "codemirror_mode": {
    "name": "ipython",
    "version": 3
   },
   "file_extension": ".py",
   "mimetype": "text/x-python",
   "name": "python",
   "nbconvert_exporter": "python",
   "pygments_lexer": "ipython3",
   "version": "3.10.13"
  }
 },
 "nbformat": 4,
 "nbformat_minor": 2
}

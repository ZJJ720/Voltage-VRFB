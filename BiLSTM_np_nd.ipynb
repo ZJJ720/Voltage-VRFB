{
 "cells": [
  {
   "cell_type": "markdown",
   "metadata": {},
   "source": [
    "配置环境"
   ]
  },
  {
   "cell_type": "code",
   "execution_count": 2,
   "metadata": {},
   "outputs": [],
   "source": [
    "# 导入必要的库\n",
    "import torch\n",
    "import torch.nn as nn\n",
    "import random\n",
    "from torch.utils.data.dataloader import DataLoader\n",
    "import numpy as np\n",
    "from torch.optim.lr_scheduler import StepLR\n",
    "import copy\n",
    "import matplotlib.pyplot as plt\n",
    "from sklearn.metrics import mean_squared_error\n",
    "from math import sqrt\n",
    "from tqdm import *\n",
    "from tools_np_nd import *\n",
    "\n",
    "def setup_seed(seed):\n",
    "    torch.manual_seed(seed)\n",
    "    torch.cuda.manual_seed_all(seed)\n",
    "    np.random.seed(seed)\n",
    "    random.seed(seed)\n",
    "    torch.backends.cudnn.deterministic = True\n",
    "\n",
    "\n",
    "# 设置随机数种子\n",
    "setup_seed(27)\n",
    "\n",
    "device = torch.device(\"cuda:0\" if torch.cuda.is_available() else \"cpu\")"
   ]
  },
  {
   "cell_type": "markdown",
   "metadata": {},
   "source": [
    "定义超参数"
   ]
  },
  {
   "cell_type": "code",
   "execution_count": 3,
   "metadata": {},
   "outputs": [],
   "source": [
    "# 定义超参数\n",
    "input_size = 4 # 输入特征的维度\n",
    "hidden_size = 100 # 隐藏层的维度\n",
    "num_layers = 2 # BiLSTM 的层数\n",
    "output_size = 1 # 输出的维度\n",
    "batch_size = 5 # 批次大小\n",
    "seq_len = 50 # 序列长度\n",
    "learning_rate = 0.001 # 学习率\n",
    "num_epochs = 30 # 训练轮数\n",
    "train_length = 0.8 # 训练数据长度\n",
    "step_size = 5 # 学习率变化周期\n",
    "gamma = 0.5 # 学习率更新值"
   ]
  },
  {
   "cell_type": "markdown",
   "metadata": {},
   "source": [
    "创建 dataset"
   ]
  },
  {
   "cell_type": "code",
   "execution_count": 4,
   "metadata": {},
   "outputs": [],
   "source": [
    "dataset_1 = create_dataset(1)\n",
    "dataset_2 = create_dataset(2)\n",
    "dataset_3 = create_dataset(3)\n",
    "dataset_4 = create_dataset(4)\n",
    "dataset_5 = create_dataset(5)\n",
    "dataset_6 = create_dataset(6)"
   ]
  },
  {
   "cell_type": "markdown",
   "metadata": {},
   "source": [
    "分离训练集和测试集"
   ]
  },
  {
   "cell_type": "code",
   "execution_count": 5,
   "metadata": {},
   "outputs": [],
   "source": [
    "# 将数据的前 train_length 的数据作为训练集 train_set\n",
    "train_size_1 = int(dataset_1.shape[0] * train_length)\n",
    "train_size_2 = int(dataset_2.shape[0] * train_length)\n",
    "train_size_3 = int(dataset_3.shape[0] * train_length)\n",
    "train_size_4 = int(dataset_4.shape[0] * train_length)\n",
    "train_size_5 = int(dataset_5.shape[0] * train_length)\n",
    "train_size_6 = int(dataset_6.shape[0] * train_length)\n",
    "\n",
    "\n",
    "# 分离出训练集和测试集\n",
    "train_1, test_1 = dataset_1[0:train_size_1], dataset_1[train_size_1:]\n",
    "train_2, test_2 = dataset_2[0:train_size_2], dataset_2[train_size_2:]\n",
    "train_3, test_3 = dataset_3[0:train_size_3], dataset_3[train_size_3:]\n",
    "train_4, test_4 = dataset_4[0:train_size_4], dataset_4[train_size_4:]\n",
    "train_5, test_5 = dataset_5[0:train_size_5], dataset_5[train_size_5:]\n",
    "train_6, test_6 = dataset_6[0:train_size_6], dataset_6[train_size_6:]\n",
    "train = np.concatenate((train_1, train_2, train_3, train_4, train_5, train_6), axis=0)\n",
    "np.random.shuffle(train)"
   ]
  },
  {
   "cell_type": "markdown",
   "metadata": {},
   "source": [
    "BiLSTM 模型"
   ]
  },
  {
   "cell_type": "code",
   "execution_count": 6,
   "metadata": {},
   "outputs": [],
   "source": [
    "# 定义 BiLSTM 模型\n",
    "class BiLSTM(nn.Module):\n",
    "    def __init__(self, input_size, hidden_size, num_layers, output_size):\n",
    "        super(BiLSTM, self).__init__()\n",
    "        self.hidden_size = hidden_size\n",
    "        self.num_layers = num_layers\n",
    "        self.bilstm = nn.LSTM(input_size, hidden_size, num_layers, batch_first=True, bidirectional=True)\n",
    "        self.fc = nn.Linear(hidden_size*2, output_size) # 乘以2是因为双向的输出要拼接\n",
    "\n",
    "    def forward(self, x):\n",
    "        # 初始化隐藏状态和细胞状态\n",
    "        h0 = torch.zeros(self.num_layers*2, x.size(0), self.hidden_size).to(device) # 乘以2是因为双向的隐藏层要分开\n",
    "        c0 = torch.zeros(self.num_layers*2, x.size(0), self.hidden_size).to(device)\n",
    "        # 通过 BiLSTM 层\n",
    "        out, _ = self.bilstm(x, (h0, c0))\n",
    "        # 取最后一个时间步的输出\n",
    "        out = out[:, -1, :]\n",
    "        # 通过全连接层\n",
    "        out = self.fc(out)\n",
    "        return out\n",
    "\n",
    "# 创建模型实例\n",
    "model = BiLSTM(input_size, hidden_size, num_layers, output_size).to(device)\n",
    "\n",
    "# 定义损失函数和优化器\n",
    "loss_function = nn.MSELoss()\n",
    "loss_function = loss_function.to(device)\n",
    "optimizer = torch.optim.Adam(model.parameters(), lr=learning_rate) # Adam 优化器\n",
    "scheduler = StepLR(optimizer, step_size=step_size, gamma=gamma)"
   ]
  },
  {
   "cell_type": "markdown",
   "metadata": {},
   "source": [
    "数据归一化"
   ]
  },
  {
   "cell_type": "code",
   "execution_count": 7,
   "metadata": {},
   "outputs": [],
   "source": [
    "test_scaled = list()\n",
    "scaler, train_scaled, test1_scaled = scale(train, test_1)\n",
    "test_scaled.append(test1_scaled)\n",
    "scaler, train_scaled, test2_scaled = scale(train, test_2)\n",
    "test_scaled.append(test2_scaled)\n",
    "scaler, train_scaled, test3_scaled = scale(train, test_3)\n",
    "test_scaled.append(test3_scaled)\n",
    "scaler, train_scaled, test4_scaled = scale(train, test_4)\n",
    "test_scaled.append(test4_scaled)\n",
    "scaler, train_scaled, test5_scaled = scale(train, test_5)\n",
    "test_scaled.append(test5_scaled)\n",
    "scaler, train_scaled, test6_scaled = scale(train, test_6)\n",
    "test_scaled.append(test6_scaled)\n",
    "dataset = DataPrepare(train_scaled) # 设置 inputs 和 labels\n",
    "train_loader = DataLoader(dataset=dataset, batch_size=batch_size, shuffle=False, drop_last=True)"
   ]
  },
  {
   "cell_type": "markdown",
   "metadata": {},
   "source": [
    "训练模型"
   ]
  },
  {
   "cell_type": "code",
   "execution_count": 8,
   "metadata": {},
   "outputs": [
    {
     "name": "stderr",
     "output_type": "stream",
     "text": [
      "  3%|▎         | 1/30 [00:20<10:04, 20.83s/it]"
     ]
    },
    {
     "name": "stdout",
     "output_type": "stream",
     "text": [
      "epoch 0 train_loss 0.00575514\n"
     ]
    },
    {
     "name": "stderr",
     "output_type": "stream",
     "text": [
      "  7%|▋         | 2/30 [00:40<09:23, 20.11s/it]"
     ]
    },
    {
     "name": "stdout",
     "output_type": "stream",
     "text": [
      "epoch 1 train_loss 0.00336653\n"
     ]
    },
    {
     "name": "stderr",
     "output_type": "stream",
     "text": [
      " 10%|█         | 3/30 [01:00<08:58, 19.96s/it]"
     ]
    },
    {
     "name": "stdout",
     "output_type": "stream",
     "text": [
      "epoch 2 train_loss 0.00295334\n"
     ]
    },
    {
     "name": "stderr",
     "output_type": "stream",
     "text": [
      " 13%|█▎        | 4/30 [01:20<08:43, 20.13s/it]"
     ]
    },
    {
     "name": "stdout",
     "output_type": "stream",
     "text": [
      "epoch 3 train_loss 0.00265061\n"
     ]
    },
    {
     "name": "stderr",
     "output_type": "stream",
     "text": [
      " 17%|█▋        | 5/30 [01:40<08:24, 20.19s/it]"
     ]
    },
    {
     "name": "stdout",
     "output_type": "stream",
     "text": [
      "epoch 4 train_loss 0.00241121\n"
     ]
    },
    {
     "name": "stderr",
     "output_type": "stream",
     "text": [
      " 20%|██        | 6/30 [02:04<08:28, 21.20s/it]"
     ]
    },
    {
     "name": "stdout",
     "output_type": "stream",
     "text": [
      "epoch 5 train_loss 0.00197885\n"
     ]
    },
    {
     "name": "stderr",
     "output_type": "stream",
     "text": [
      " 23%|██▎       | 7/30 [02:27<08:22, 21.84s/it]"
     ]
    },
    {
     "name": "stdout",
     "output_type": "stream",
     "text": [
      "epoch 6 train_loss 0.00189188\n"
     ]
    },
    {
     "name": "stderr",
     "output_type": "stream",
     "text": [
      " 27%|██▋       | 8/30 [02:49<08:01, 21.89s/it]"
     ]
    },
    {
     "name": "stdout",
     "output_type": "stream",
     "text": [
      "epoch 7 train_loss 0.00183168\n"
     ]
    },
    {
     "name": "stderr",
     "output_type": "stream",
     "text": [
      " 30%|███       | 9/30 [03:09<07:28, 21.36s/it]"
     ]
    },
    {
     "name": "stdout",
     "output_type": "stream",
     "text": [
      "epoch 8 train_loss 0.00178542\n"
     ]
    },
    {
     "name": "stderr",
     "output_type": "stream",
     "text": [
      " 33%|███▎      | 10/30 [03:29<06:59, 20.99s/it]"
     ]
    },
    {
     "name": "stdout",
     "output_type": "stream",
     "text": [
      "epoch 9 train_loss 0.00174604\n"
     ]
    },
    {
     "name": "stderr",
     "output_type": "stream",
     "text": [
      " 37%|███▋      | 11/30 [03:49<06:33, 20.71s/it]"
     ]
    },
    {
     "name": "stdout",
     "output_type": "stream",
     "text": [
      "epoch 10 train_loss 0.00155834\n"
     ]
    },
    {
     "name": "stderr",
     "output_type": "stream",
     "text": [
      " 40%|████      | 12/30 [04:10<06:12, 20.69s/it]"
     ]
    },
    {
     "name": "stdout",
     "output_type": "stream",
     "text": [
      "epoch 11 train_loss 0.00152757\n"
     ]
    },
    {
     "name": "stderr",
     "output_type": "stream",
     "text": [
      " 43%|████▎     | 13/30 [04:31<05:53, 20.79s/it]"
     ]
    },
    {
     "name": "stdout",
     "output_type": "stream",
     "text": [
      "epoch 12 train_loss 0.00150112\n"
     ]
    },
    {
     "name": "stderr",
     "output_type": "stream",
     "text": [
      " 47%|████▋     | 14/30 [04:51<05:29, 20.58s/it]"
     ]
    },
    {
     "name": "stdout",
     "output_type": "stream",
     "text": [
      "epoch 13 train_loss 0.00147449\n"
     ]
    },
    {
     "name": "stderr",
     "output_type": "stream",
     "text": [
      " 50%|█████     | 15/30 [05:12<05:09, 20.66s/it]"
     ]
    },
    {
     "name": "stdout",
     "output_type": "stream",
     "text": [
      "epoch 14 train_loss 0.00144658\n"
     ]
    },
    {
     "name": "stderr",
     "output_type": "stream",
     "text": [
      " 53%|█████▎    | 16/30 [05:31<04:44, 20.35s/it]"
     ]
    },
    {
     "name": "stdout",
     "output_type": "stream",
     "text": [
      "epoch 15 train_loss 0.00133759\n"
     ]
    },
    {
     "name": "stderr",
     "output_type": "stream",
     "text": [
      " 57%|█████▋    | 17/30 [05:51<04:22, 20.19s/it]"
     ]
    },
    {
     "name": "stdout",
     "output_type": "stream",
     "text": [
      "epoch 16 train_loss 0.00131462\n"
     ]
    },
    {
     "name": "stderr",
     "output_type": "stream",
     "text": [
      " 60%|██████    | 18/30 [06:11<04:00, 20.03s/it]"
     ]
    },
    {
     "name": "stdout",
     "output_type": "stream",
     "text": [
      "epoch 17 train_loss 0.00129278\n"
     ]
    },
    {
     "name": "stderr",
     "output_type": "stream",
     "text": [
      " 63%|██████▎   | 19/30 [06:31<03:39, 19.93s/it]"
     ]
    },
    {
     "name": "stdout",
     "output_type": "stream",
     "text": [
      "epoch 18 train_loss 0.00127099\n"
     ]
    },
    {
     "name": "stderr",
     "output_type": "stream",
     "text": [
      " 67%|██████▋   | 20/30 [06:50<03:19, 19.92s/it]"
     ]
    },
    {
     "name": "stdout",
     "output_type": "stream",
     "text": [
      "epoch 19 train_loss 0.00124919\n"
     ]
    },
    {
     "name": "stderr",
     "output_type": "stream",
     "text": [
      " 70%|███████   | 21/30 [07:10<02:58, 19.88s/it]"
     ]
    },
    {
     "name": "stdout",
     "output_type": "stream",
     "text": [
      "epoch 20 train_loss 0.00118791\n"
     ]
    },
    {
     "name": "stderr",
     "output_type": "stream",
     "text": [
      " 73%|███████▎  | 22/30 [07:30<02:39, 19.89s/it]"
     ]
    },
    {
     "name": "stdout",
     "output_type": "stream",
     "text": [
      "epoch 21 train_loss 0.00117384\n"
     ]
    },
    {
     "name": "stderr",
     "output_type": "stream",
     "text": [
      " 77%|███████▋  | 23/30 [07:53<02:25, 20.80s/it]"
     ]
    },
    {
     "name": "stdout",
     "output_type": "stream",
     "text": [
      "epoch 22 train_loss 0.00116082\n"
     ]
    },
    {
     "name": "stderr",
     "output_type": "stream",
     "text": [
      " 80%|████████  | 24/30 [08:17<02:10, 21.67s/it]"
     ]
    },
    {
     "name": "stdout",
     "output_type": "stream",
     "text": [
      "epoch 23 train_loss 0.00114806\n"
     ]
    },
    {
     "name": "stderr",
     "output_type": "stream",
     "text": [
      " 83%|████████▎ | 25/30 [08:40<01:51, 22.28s/it]"
     ]
    },
    {
     "name": "stdout",
     "output_type": "stream",
     "text": [
      "epoch 24 train_loss 0.00113551\n"
     ]
    },
    {
     "name": "stderr",
     "output_type": "stream",
     "text": [
      " 87%|████████▋ | 26/30 [09:04<01:30, 22.60s/it]"
     ]
    },
    {
     "name": "stdout",
     "output_type": "stream",
     "text": [
      "epoch 25 train_loss 0.00110396\n"
     ]
    },
    {
     "name": "stderr",
     "output_type": "stream",
     "text": [
      " 90%|█████████ | 27/30 [09:26<01:07, 22.48s/it]"
     ]
    },
    {
     "name": "stdout",
     "output_type": "stream",
     "text": [
      "epoch 26 train_loss 0.00109643\n"
     ]
    },
    {
     "name": "stderr",
     "output_type": "stream",
     "text": [
      " 93%|█████████▎| 28/30 [09:49<00:45, 22.73s/it]"
     ]
    },
    {
     "name": "stdout",
     "output_type": "stream",
     "text": [
      "epoch 27 train_loss 0.00108969\n"
     ]
    },
    {
     "name": "stderr",
     "output_type": "stream",
     "text": [
      " 97%|█████████▋| 29/30 [10:12<00:22, 22.62s/it]"
     ]
    },
    {
     "name": "stdout",
     "output_type": "stream",
     "text": [
      "epoch 28 train_loss 0.00108308\n"
     ]
    },
    {
     "name": "stderr",
     "output_type": "stream",
     "text": [
      "100%|██████████| 30/30 [10:32<00:00, 21.08s/it]"
     ]
    },
    {
     "name": "stdout",
     "output_type": "stream",
     "text": [
      "epoch 29 train_loss 0.00107655\n"
     ]
    },
    {
     "name": "stderr",
     "output_type": "stream",
     "text": [
      "\n"
     ]
    }
   ],
   "source": [
    "# 训练模型\n",
    "min_epochs = 10\n",
    "best_model = None\n",
    "min_loss = 1\n",
    "\n",
    "for epoch in tqdm(range(num_epochs)):\n",
    "    train_loss = []\n",
    "    for i, data in enumerate(train_loader, 0):\n",
    "        inputs, labels = data\n",
    "        inputs, labels = inputs.to(device), labels.to(device)\n",
    "        inputs = inputs.reshape(batch_size, 1, 4)\n",
    "\n",
    "        # 梯度清零\n",
    "        optimizer.zero_grad()\n",
    "        inputs = inputs.to(torch.float32)\n",
    "        labels = labels.to(torch.float32)\n",
    "        \n",
    "        # 前向传播\n",
    "        y_pred = model(inputs)\n",
    "        \n",
    "        # 计算损失\n",
    "        loss = loss_function(labels, y_pred)\n",
    "        train_loss.append(loss.cpu().item())\n",
    "        \n",
    "        # 更新梯度\n",
    "        loss.backward()\n",
    "        \n",
    "        # 优化参数\n",
    "        optimizer.step()\n",
    "        \n",
    "    scheduler.step()\n",
    "\n",
    "    if epoch > min_epochs and loss < min_loss:\n",
    "            min_val_loss = loss\n",
    "            best_model = copy.deepcopy(model)\n",
    "\n",
    "    print('epoch {} train_loss {:.8f}'.format(epoch, np.mean(train_loss)))\n",
    "    model.train()\n",
    "\n",
    "    torch.save(model, r'./result_np_nd/Voltage_model_nopast_nodegrade.pth')"
   ]
  },
  {
   "cell_type": "markdown",
   "metadata": {},
   "source": [
    "测试模型"
   ]
  },
  {
   "cell_type": "code",
   "execution_count": 19,
   "metadata": {},
   "outputs": [
    {
     "name": "stdout",
     "output_type": "stream",
     "text": [
      "BiLSTM(\n",
      "  (bilstm): LSTM(4, 100, num_layers=2, batch_first=True, bidirectional=True)\n",
      "  (fc): Linear(in_features=200, out_features=1, bias=True)\n",
      ")\n",
      "Forecasting Testing Data\n",
      "Test RMSE: 0.038\n"
     ]
    }
   ],
   "source": [
    "test_num = 6 # 测试数据集选择\n",
    "# 测试模型\n",
    "index = []\n",
    "with torch.no_grad():\n",
    "    model = torch.load(\"./result_np_nd/Voltage_model_nopast_nodegrade.pth\")\n",
    "    print(model)\n",
    "    \n",
    "    # 预测测试数据\n",
    "    print('Forecasting Testing Data')\n",
    "    predictions_test = list() # 预测值\n",
    "    expected = list() # 真实值\n",
    "    test_dataset = DataPrepare(test_scaled[test_num-1]) # 分离 inputs 和 labels\n",
    "    test_loader = DataLoader(dataset=test_dataset, batch_size=batch_size, shuffle=False, drop_last=True) # 加载数据\n",
    "    for i, data in enumerate(test_loader, 0):\n",
    "        # make one-step forecast\n",
    "        inputs, labels = data\n",
    "        inputs, labels = inputs.to(device), labels.to(device)\n",
    "        inputs = inputs.reshape(batch_size, 1, 4)\n",
    "        inputs = inputs.to(torch.float32)\n",
    "        labels = labels.to(torch.float32)\n",
    "\n",
    "        # yhat 为预测值\n",
    "        yhat = model(inputs)\n",
    "        \n",
    "        for j in range(yhat.shape[0]):\n",
    "            yhat[j] = invert_scale(scaler, inputs[j].reshape(4, -1).cpu().numpy(), \n",
    "            yhat[j].cpu().detach().numpy())\n",
    "            labels[j] = invert_scale(scaler, inputs[j].reshape(4, -1).cpu().numpy(),\n",
    "            labels[j].cpu().detach().numpy())\n",
    "            predictions_test.append(yhat[j].cpu().detach().numpy()) # 预测值序列\n",
    "            expected.append(labels[j].cpu().detach().numpy()) # 真实值序列\n",
    "        \n",
    "\n",
    "    # RMSE 评价指标\n",
    "    rmse_test = sqrt(mean_squared_error(np.array(expected) / 2, np.array(predictions_test) / 2))\n",
    "    print('Test RMSE: %.3f' % rmse_test)\n",
    "\n",
    "    # 保存输出结果\n",
    "    index.append(rmse_test)\n",
    "    with open(r'./result_np_nd/voltage_prediction_result_test{}.txt'.format(test_num), 'a', encoding='utf-8') as f:\n",
    "        for j in range(len(index)):\n",
    "            f.write(str(index[j]) + \" \" + str(num_epochs) + \" \" + str(test_num) + \"\\n\")\n",
    "    with open(r'./result_np_nd/voltage_prediction_data_test{}.txt'.format(test_num), 'a', encoding='utf-8') as f:\n",
    "        f.write('test{}'.format(test_num) + \"\\n\")\n",
    "        for k in range(len(predictions_test)):\n",
    "            f.write(str(predictions_test[k]) + \"\\n\")"
   ]
  },
  {
   "cell_type": "markdown",
   "metadata": {},
   "source": [
    "后处理"
   ]
  },
  {
   "cell_type": "code",
   "execution_count": 20,
   "metadata": {},
   "outputs": [
    {
     "data": {
      "image/png": "[encoded data removed]",
      "text/plain": [
       "<Figure size 640x480 with 1 Axes>"
      ]
     },
     "metadata": {},
     "output_type": "display_data"
    },
    {
     "data": {
      "image/png": "[encoded data removed]",
      "text/plain": [
       "<Figure size 640x480 with 1 Axes>"
      ]
     },
     "metadata": {},
     "output_type": "display_data"
    }
   ],
   "source": [
    "# 绘制 Voltage 预测图像\n",
    "# 创建横坐标\n",
    "data_num = len(expected)\n",
    "Cyc_X = np.linspace(0, data_num, data_num)\n",
    "fig = plt.figure()\n",
    "sub = fig.add_subplot(111) # 1*1 的网格中第一个图像\n",
    "sub.plot(expected, c='dodgerblue', label='Real Voltage', linewidth=1.5)\n",
    "sub.plot(predictions_test, c='coral', label='Predicted Voltage', linewidth=1.5)\n",
    "\n",
    "# 设置坐标轴\n",
    "ax = plt.gca()\n",
    "ax.spines['bottom'].set_linewidth(1)\n",
    "ax.spines['left'].set_linewidth(1)\n",
    "ax.spines['right'].set_linewidth(1)\n",
    "ax.spines['top'].set_linewidth(1)\n",
    "plt.tick_params(labelsize=10) # 刻度标签字体大小\n",
    "plt.legend(loc=1, edgecolor='w') # 创建图例\n",
    "plt.ylabel('U(V)')\n",
    "plt.xlabel('T(s)')\n",
    "plt.title('BiLSTM Voltage Estimation')\n",
    "plt.savefig(r'./result_np_nd/Voltage_result_{}.png'.format(test_num))\n",
    "plt.show()\n",
    "\n",
    "\n",
    "# 绘制单次充放电循环电压输出预测\n",
    "# 创建横坐标\n",
    "start_index = [-612, -612, -532, -530, -553,-434]\n",
    "end_index = [-1, -1, -1, -1, -1, -1]\n",
    "\n",
    "data_num = len(expected[start_index[test_num-1]:end_index[test_num-1]])\n",
    "Cyc_X = np.linspace(0, data_num, data_num)\n",
    "fig = plt.figure()\n",
    "sub = fig.add_subplot(111) # 1*1 的网格中第一个图像\n",
    "sub.plot(expected[start_index[test_num-1]:end_index[test_num-1]], c='dodgerblue', label='Real Voltage', linewidth=1.5)\n",
    "sub.plot(predictions_test[start_index[test_num-1]:end_index[test_num-1]], c='coral', label='Predicted Voltage', linewidth=1.5)\n",
    "\n",
    "# 设置坐标轴\n",
    "ax = plt.gca()\n",
    "ax.spines['bottom'].set_linewidth(1)\n",
    "ax.spines['left'].set_linewidth(1)\n",
    "ax.spines['right'].set_linewidth(1)\n",
    "ax.spines['top'].set_linewidth(1)\n",
    "plt.tick_params(labelsize=10) # 刻度标签字体大小\n",
    "plt.legend(loc=1, edgecolor='w') # 创建图例\n",
    "plt.ylabel('U(V)')\n",
    "plt.xlabel('T(s)')\n",
    "plt.title('BiLSTM Voltage Estimation')\n",
    "plt.savefig(r'./result_np_nd/output_voltage_{}.png'.format(test_num))\n",
    "plt.show()"
   ]
  }
 ],
 "metadata": {
  "kernelspec": {
   "display_name": "zjjtorch",
   "language": "python",
   "name": "python3"
  },
  "language_info": {
   "codemirror_mode": {
    "name": "ipython",
    "version": 3
   },
   "file_extension": ".py",
   "mimetype": "text/x-python",
   "name": "python",
   "nbconvert_exporter": "python",
   "pygments_lexer": "ipython3",
   "version": "3.10.13"
  }
 },
 "nbformat": 4,
 "nbformat_minor": 2
}

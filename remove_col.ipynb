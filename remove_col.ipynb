{
 "cells": [
  {
   "cell_type": "code",
   "execution_count": null,
   "metadata": {},
   "outputs": [],
   "source": [
    "from openpyxl import load_workbook\n",
    "\n",
    "for k in range(1,7):\n",
    "    excel_path = f\"data/test{k}.xlsx\"\n",
    "    wb = load_workbook(excel_path)\n",
    "    ws=wb.active\n",
    "\n",
    "    col_n = 4 #目标列\n",
    "    ws.delete_cols(col_n)\n",
    "    \n",
    "    wb.save(filename=f\"data/test1{k}.xlsx\")\n",
    "    wb.close "
   ]
  }
 ],
 "metadata": {
  "kernelspec": {
   "display_name": "zjjtorch",
   "language": "python",
   "name": "python3"
  },
  "language_info": {
   "codemirror_mode": {
    "name": "ipython",
    "version": 3
   },
   "file_extension": ".py",
   "mimetype": "text/x-python",
   "name": "python",
   "nbconvert_exporter": "python",
   "pygments_lexer": "ipython3",
   "version": "3.10.13"
  }
 },
 "nbformat": 4,
 "nbformat_minor": 2
}

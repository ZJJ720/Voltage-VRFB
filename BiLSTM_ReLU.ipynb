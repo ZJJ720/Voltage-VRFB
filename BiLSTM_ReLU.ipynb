{
 "cells": [
  {
   "cell_type": "markdown",
   "metadata": {},
   "source": [
    "配置环境"
   ]
  },
  {
   "cell_type": "code",
   "execution_count": 1,
   "metadata": {},
   "outputs": [],
   "source": [
    "# 导入必要的库\n",
    "import torch\n",
    "import torch.nn as nn\n",
    "import random\n",
    "from torch.utils.data.dataloader import DataLoader\n",
    "import numpy as np\n",
    "from torch.optim.lr_scheduler import StepLR\n",
    "import copy\n",
    "import matplotlib.pyplot as plt\n",
    "from sklearn.metrics import mean_squared_error\n",
    "from math import sqrt\n",
    "from tqdm import *\n",
    "from tools import *\n",
    "\n",
    "def setup_seed(seed):\n",
    "    torch.manual_seed(seed)\n",
    "    torch.cuda.manual_seed_all(seed)\n",
    "    np.random.seed(seed)\n",
    "    random.seed(seed)\n",
    "    torch.backends.cudnn.deterministic = True\n",
    "\n",
    "\n",
    "# 设置随机数种子\n",
    "setup_seed(27)\n",
    "\n",
    "device = torch.device(\"cuda:0\" if torch.cuda.is_available() else \"cpu\")"
   ]
  },
  {
   "cell_type": "markdown",
   "metadata": {},
   "source": [
    "定义超参数"
   ]
  },
  {
   "cell_type": "code",
   "execution_count": 2,
   "metadata": {},
   "outputs": [],
   "source": [
    "# 定义超参数\n",
    "input_size = 35 # 输入特征的维度\n",
    "hidden_size = 100 # 隐藏层的维度\n",
    "num_layers = 2 # BiLSTM 的层数\n",
    "output_size = 1 # 输出的维度\n",
    "batch_size = 5 # 批次大小\n",
    "learning_rate = 0.001 # 学习率\n",
    "num_epochs = 30 # 训练轮数\n",
    "seq_len = 30 # 序列长度\n",
    "train_length = 0.8 # 训练数据长度\n",
    "step_size = 5 # 学习率变化周期\n",
    "gamma = 0.5 # 学习率更新值"
   ]
  },
  {
   "cell_type": "markdown",
   "metadata": {},
   "source": [
    "BiLSTM 模型"
   ]
  },
  {
   "cell_type": "code",
   "execution_count": 3,
   "metadata": {},
   "outputs": [],
   "source": [
    "# 定义 BiLSTM 模型\n",
    "class BiLSTM(nn.Module):\n",
    "    def __init__(self, input_size, hidden_size, num_layers, output_size):\n",
    "        super(BiLSTM, self).__init__()\n",
    "        self.hidden_size = hidden_size\n",
    "        self.num_layers = num_layers\n",
    "        self.bilstm = nn.LSTM(input_size, hidden_size, num_layers, batch_first=True, bidirectional=True)\n",
    "        self.relu = nn.ReLU()\n",
    "        self.fc = nn.Linear(hidden_size*2, output_size) # 乘以2是因为双向的输出要拼接\n",
    "\n",
    "    def forward(self, x):\n",
    "        # 初始化隐藏状态和细胞状态\n",
    "        h0 = torch.zeros(self.num_layers*2, x.size(0), self.hidden_size).to(device) # 乘以2是因为双向的隐藏层要分开\n",
    "        c0 = torch.zeros(self.num_layers*2, x.size(0), self.hidden_size).to(device)\n",
    "        # 通过 BiLSTM 层\n",
    "        out, _ = self.bilstm(x, (h0, c0))\n",
    "        # 取最后一个时间步的输出\n",
    "        out = out[:, -1, :]\n",
    "        # 通过全连接层\n",
    "        out = self.fc(self.relu(out))\n",
    "        return out\n",
    "\n",
    "# 创建模型实例\n",
    "model = BiLSTM(input_size, hidden_size, num_layers, output_size).to(device)\n",
    "\n",
    "# 定义损失函数和优化器\n",
    "loss_function = nn.MSELoss()\n",
    "loss_function = loss_function.to(device)\n",
    "optimizer = torch.optim.Adam(model.parameters(), lr=learning_rate) # Adam 优化器\n",
    "scheduler = StepLR(optimizer, step_size=step_size, gamma=gamma)"
   ]
  },
  {
   "cell_type": "markdown",
   "metadata": {},
   "source": [
    "创建 dataset"
   ]
  },
  {
   "cell_type": "code",
   "execution_count": 4,
   "metadata": {},
   "outputs": [],
   "source": [
    "dataset_1 = create_dataset(1)\n",
    "dataset_2 = create_dataset(2)\n",
    "dataset_3 = create_dataset(3)\n",
    "dataset_4 = create_dataset(4)\n",
    "dataset_5 = create_dataset(5)\n",
    "dataset_6 = create_dataset(6)"
   ]
  },
  {
   "cell_type": "markdown",
   "metadata": {},
   "source": [
    "分离训练集和测试集"
   ]
  },
  {
   "cell_type": "code",
   "execution_count": 5,
   "metadata": {},
   "outputs": [],
   "source": [
    "# 将数据的前 train_length 的数据作为训练集 train_set\n",
    "train_size_1 = int(dataset_1.shape[0] * train_length)\n",
    "train_size_2 = int(dataset_2.shape[0] * train_length)\n",
    "train_size_3 = int(dataset_3.shape[0] * train_length)\n",
    "train_size_4 = int(dataset_4.shape[0] * train_length)\n",
    "train_size_5 = int(dataset_5.shape[0] * train_length)\n",
    "train_size_6 = int(dataset_6.shape[0] * train_length)\n",
    "test_size = []\n",
    "test_size.append(dataset_1.shape[0] * (1 - train_length))\n",
    "test_size.append(dataset_2.shape[0] * (1 - train_length))\n",
    "test_size.append(dataset_3.shape[0] * (1 - train_length))\n",
    "test_size.append(dataset_4.shape[0] * (1 - train_length))\n",
    "test_size.append(dataset_5.shape[0] * (1 - train_length))\n",
    "test_size.append(dataset_6.shape[0] * (1 - train_length))\n",
    "\n",
    "# 分离出训练集和测试集\n",
    "train_data = []\n",
    "test_data = []\n",
    "train_data.append(dataset_1[0:train_size_1])\n",
    "test_data.append(dataset_1[train_size_1:])\n",
    "train_data.append(dataset_2[0:train_size_2])\n",
    "test_data.append(dataset_2[train_size_2:])\n",
    "train_data.append(dataset_3[0:train_size_3])\n",
    "test_data.append(dataset_3[train_size_3:])\n",
    "train_data.append(dataset_4[0:train_size_4])\n",
    "test_data.append(dataset_4[train_size_4:])\n",
    "train_data.append(dataset_5[0:train_size_5])\n",
    "test_data.append(dataset_5[train_size_5:])\n",
    "train_data.append(dataset_6[0:train_size_6])\n",
    "test_data.append(dataset_6[train_size_6:])\n",
    "for i in range(6):\n",
    "    train_data[i] = create_seq(train_data[i], seq_len)\n",
    "\n",
    "\n",
    "train = np.concatenate((train_data[0], train_data[1], train_data[2], train_data[3], train_data[4], train_data[5]), axis=0)\n",
    "np.random.shuffle(train)"
   ]
  },
  {
   "cell_type": "markdown",
   "metadata": {},
   "source": [
    "训练数据归一化"
   ]
  },
  {
   "cell_type": "code",
   "execution_count": 6,
   "metadata": {},
   "outputs": [],
   "source": [
    "scaler, train_scaled = train_scale(train)\n",
    "dataset = DataPrepare(train_scaled) # 设置 inputs 和 labels\n",
    "train_loader = DataLoader(dataset=dataset, batch_size=batch_size, shuffle=False, drop_last=True)"
   ]
  },
  {
   "cell_type": "markdown",
   "metadata": {},
   "source": [
    "训练模型"
   ]
  },
  {
   "cell_type": "code",
   "execution_count": 7,
   "metadata": {},
   "outputs": [
    {
     "name": "stderr",
     "output_type": "stream",
     "text": [
      "  3%|▎         | 1/30 [00:21<10:30, 21.74s/it]"
     ]
    },
    {
     "name": "stdout",
     "output_type": "stream",
     "text": [
      "epoch 0 train_loss 0.00118362\n"
     ]
    },
    {
     "name": "stderr",
     "output_type": "stream",
     "text": [
      "  7%|▋         | 2/30 [00:42<09:54, 21.24s/it]"
     ]
    },
    {
     "name": "stdout",
     "output_type": "stream",
     "text": [
      "epoch 1 train_loss 0.00023034\n"
     ]
    },
    {
     "name": "stderr",
     "output_type": "stream",
     "text": [
      " 10%|█         | 3/30 [01:05<09:49, 21.85s/it]"
     ]
    },
    {
     "name": "stdout",
     "output_type": "stream",
     "text": [
      "epoch 2 train_loss 0.00015848\n"
     ]
    },
    {
     "name": "stderr",
     "output_type": "stream",
     "text": [
      " 13%|█▎        | 4/30 [01:27<09:35, 22.12s/it]"
     ]
    },
    {
     "name": "stdout",
     "output_type": "stream",
     "text": [
      "epoch 3 train_loss 0.00012871\n"
     ]
    },
    {
     "name": "stderr",
     "output_type": "stream",
     "text": [
      " 17%|█▋        | 5/30 [01:48<09:00, 21.62s/it]"
     ]
    },
    {
     "name": "stdout",
     "output_type": "stream",
     "text": [
      "epoch 4 train_loss 0.00012084\n"
     ]
    },
    {
     "name": "stderr",
     "output_type": "stream",
     "text": [
      " 20%|██        | 6/30 [02:09<08:34, 21.44s/it]"
     ]
    },
    {
     "name": "stdout",
     "output_type": "stream",
     "text": [
      "epoch 5 train_loss 0.00006394\n"
     ]
    },
    {
     "name": "stderr",
     "output_type": "stream",
     "text": [
      " 23%|██▎       | 7/30 [02:28<07:54, 20.63s/it]"
     ]
    },
    {
     "name": "stdout",
     "output_type": "stream",
     "text": [
      "epoch 6 train_loss 0.00006044\n"
     ]
    },
    {
     "name": "stderr",
     "output_type": "stream",
     "text": [
      " 27%|██▋       | 8/30 [02:47<07:20, 20.01s/it]"
     ]
    },
    {
     "name": "stdout",
     "output_type": "stream",
     "text": [
      "epoch 7 train_loss 0.00005787\n"
     ]
    },
    {
     "name": "stderr",
     "output_type": "stream",
     "text": [
      " 30%|███       | 9/30 [03:07<07:02, 20.13s/it]"
     ]
    },
    {
     "name": "stdout",
     "output_type": "stream",
     "text": [
      "epoch 8 train_loss 0.00005583\n"
     ]
    },
    {
     "name": "stderr",
     "output_type": "stream",
     "text": [
      " 33%|███▎      | 10/30 [03:26<06:33, 19.65s/it]"
     ]
    },
    {
     "name": "stdout",
     "output_type": "stream",
     "text": [
      "epoch 9 train_loss 0.00005411\n"
     ]
    },
    {
     "name": "stderr",
     "output_type": "stream",
     "text": [
      " 37%|███▋      | 11/30 [03:44<06:06, 19.30s/it]"
     ]
    },
    {
     "name": "stdout",
     "output_type": "stream",
     "text": [
      "epoch 10 train_loss 0.00004053\n"
     ]
    },
    {
     "name": "stderr",
     "output_type": "stream",
     "text": [
      " 40%|████      | 12/30 [04:03<05:46, 19.23s/it]"
     ]
    },
    {
     "name": "stdout",
     "output_type": "stream",
     "text": [
      "epoch 11 train_loss 0.00003965\n"
     ]
    },
    {
     "name": "stderr",
     "output_type": "stream",
     "text": [
      " 43%|████▎     | 13/30 [04:22<05:24, 19.11s/it]"
     ]
    },
    {
     "name": "stdout",
     "output_type": "stream",
     "text": [
      "epoch 12 train_loss 0.00003896\n"
     ]
    },
    {
     "name": "stderr",
     "output_type": "stream",
     "text": [
      " 47%|████▋     | 14/30 [04:42<05:08, 19.25s/it]"
     ]
    },
    {
     "name": "stdout",
     "output_type": "stream",
     "text": [
      "epoch 13 train_loss 0.00003835\n"
     ]
    },
    {
     "name": "stderr",
     "output_type": "stream",
     "text": [
      " 50%|█████     | 15/30 [05:00<04:43, 18.92s/it]"
     ]
    },
    {
     "name": "stdout",
     "output_type": "stream",
     "text": [
      "epoch 14 train_loss 0.00003784\n"
     ]
    },
    {
     "name": "stderr",
     "output_type": "stream",
     "text": [
      " 53%|█████▎    | 16/30 [05:17<04:18, 18.44s/it]"
     ]
    },
    {
     "name": "stdout",
     "output_type": "stream",
     "text": [
      "epoch 15 train_loss 0.00003258\n"
     ]
    },
    {
     "name": "stderr",
     "output_type": "stream",
     "text": [
      " 57%|█████▋    | 17/30 [05:36<04:01, 18.60s/it]"
     ]
    },
    {
     "name": "stdout",
     "output_type": "stream",
     "text": [
      "epoch 16 train_loss 0.00003217\n"
     ]
    },
    {
     "name": "stderr",
     "output_type": "stream",
     "text": [
      " 60%|██████    | 18/30 [05:56<03:47, 18.92s/it]"
     ]
    },
    {
     "name": "stdout",
     "output_type": "stream",
     "text": [
      "epoch 17 train_loss 0.00003182\n"
     ]
    },
    {
     "name": "stderr",
     "output_type": "stream",
     "text": [
      " 63%|██████▎   | 19/30 [06:19<03:41, 20.11s/it]"
     ]
    },
    {
     "name": "stdout",
     "output_type": "stream",
     "text": [
      "epoch 18 train_loss 0.00003150\n"
     ]
    },
    {
     "name": "stderr",
     "output_type": "stream",
     "text": [
      " 67%|██████▋   | 20/30 [06:40<03:26, 20.62s/it]"
     ]
    },
    {
     "name": "stdout",
     "output_type": "stream",
     "text": [
      "epoch 19 train_loss 0.00003118\n"
     ]
    },
    {
     "name": "stderr",
     "output_type": "stream",
     "text": [
      " 70%|███████   | 21/30 [07:02<03:09, 21.01s/it]"
     ]
    },
    {
     "name": "stdout",
     "output_type": "stream",
     "text": [
      "epoch 20 train_loss 0.00002866\n"
     ]
    },
    {
     "name": "stderr",
     "output_type": "stream",
     "text": [
      " 73%|███████▎  | 22/30 [07:24<02:48, 21.06s/it]"
     ]
    },
    {
     "name": "stdout",
     "output_type": "stream",
     "text": [
      "epoch 21 train_loss 0.00002839\n"
     ]
    },
    {
     "name": "stderr",
     "output_type": "stream",
     "text": [
      " 77%|███████▋  | 23/30 [07:44<02:27, 21.01s/it]"
     ]
    },
    {
     "name": "stdout",
     "output_type": "stream",
     "text": [
      "epoch 22 train_loss 0.00002816\n"
     ]
    },
    {
     "name": "stderr",
     "output_type": "stream",
     "text": [
      " 80%|████████  | 24/30 [08:05<02:05, 20.96s/it]"
     ]
    },
    {
     "name": "stdout",
     "output_type": "stream",
     "text": [
      "epoch 23 train_loss 0.00002795\n"
     ]
    },
    {
     "name": "stderr",
     "output_type": "stream",
     "text": [
      " 83%|████████▎ | 25/30 [08:26<01:44, 20.92s/it]"
     ]
    },
    {
     "name": "stdout",
     "output_type": "stream",
     "text": [
      "epoch 24 train_loss 0.00002776\n"
     ]
    },
    {
     "name": "stderr",
     "output_type": "stream",
     "text": [
      " 87%|████████▋ | 26/30 [08:47<01:23, 20.86s/it]"
     ]
    },
    {
     "name": "stdout",
     "output_type": "stream",
     "text": [
      "epoch 25 train_loss 0.00002648\n"
     ]
    },
    {
     "name": "stderr",
     "output_type": "stream",
     "text": [
      " 90%|█████████ | 27/30 [09:08<01:02, 20.91s/it]"
     ]
    },
    {
     "name": "stdout",
     "output_type": "stream",
     "text": [
      "epoch 26 train_loss 0.00002635\n"
     ]
    },
    {
     "name": "stderr",
     "output_type": "stream",
     "text": [
      " 93%|█████████▎| 28/30 [09:29<00:42, 21.06s/it]"
     ]
    },
    {
     "name": "stdout",
     "output_type": "stream",
     "text": [
      "epoch 27 train_loss 0.00002623\n"
     ]
    },
    {
     "name": "stderr",
     "output_type": "stream",
     "text": [
      " 97%|█████████▋| 29/30 [09:51<00:21, 21.40s/it]"
     ]
    },
    {
     "name": "stdout",
     "output_type": "stream",
     "text": [
      "epoch 28 train_loss 0.00002613\n"
     ]
    },
    {
     "name": "stderr",
     "output_type": "stream",
     "text": [
      "100%|██████████| 30/30 [10:15<00:00, 20.50s/it]"
     ]
    },
    {
     "name": "stdout",
     "output_type": "stream",
     "text": [
      "epoch 29 train_loss 0.00002603\n"
     ]
    },
    {
     "name": "stderr",
     "output_type": "stream",
     "text": [
      "\n"
     ]
    }
   ],
   "source": [
    "# 训练模型\n",
    "min_epochs = 10\n",
    "best_model = None\n",
    "min_loss = 1\n",
    "\n",
    "for epoch in tqdm(range(num_epochs)):\n",
    "    train_loss = []\n",
    "    for i, data in enumerate(train_loader, 0):\n",
    "        inputs, labels = data\n",
    "        inputs, labels = inputs.to(device), labels.to(device)\n",
    "        inputs = inputs.reshape(batch_size, 1, 35)\n",
    "\n",
    "        # 梯度清零\n",
    "        optimizer.zero_grad()\n",
    "        inputs = inputs.to(torch.float32)\n",
    "        labels = labels.to(torch.float32)\n",
    "        \n",
    "        # 前向传播\n",
    "        y_pred = model(inputs)\n",
    "        \n",
    "        # 计算损失\n",
    "        loss = loss_function(labels, y_pred)\n",
    "        train_loss.append(loss.cpu().item())\n",
    "        \n",
    "        # 更新梯度\n",
    "        loss.backward()\n",
    "        \n",
    "        # 优化参数\n",
    "        optimizer.step()\n",
    "        \n",
    "    scheduler.step()\n",
    "\n",
    "    if epoch > min_epochs and loss < min_loss:\n",
    "            min_val_loss = loss\n",
    "            best_model = copy.deepcopy(model)\n",
    "\n",
    "    print('epoch {} train_loss {:.8f}'.format(epoch, np.mean(train_loss)))\n",
    "    model.train()\n",
    "\n",
    "    torch.save(model, r'./result/Voltage_model_new.pth')"
   ]
  },
  {
   "cell_type": "markdown",
   "metadata": {},
   "source": [
    "测试模型"
   ]
  },
  {
   "cell_type": "code",
   "execution_count": 16,
   "metadata": {},
   "outputs": [
    {
     "name": "stdout",
     "output_type": "stream",
     "text": [
      "BiLSTM(\n",
      "  (bilstm): LSTM(35, 100, num_layers=2, batch_first=True, bidirectional=True)\n",
      "  (relu): ReLU()\n",
      "  (fc): Linear(in_features=200, out_features=1, bias=True)\n",
      ")\n",
      "Forecasting Testing Data\n",
      "Test RMSE: 0.001\n"
     ]
    }
   ],
   "source": [
    "# 测试模型\n",
    "test_num = 1 # 测试数据集选择\n",
    "index = []\n",
    "with torch.no_grad():\n",
    "    model = torch.load(\"./result/Voltage_model_new.pth\")\n",
    "    print(model)\n",
    "    \n",
    "    # 预测测试数据\n",
    "    print('Forecasting Testing Data')\n",
    "    predictions_test = list() # 预测值\n",
    "    expected = list() # 真实值\n",
    "    inputs_new, labels_new = test_data[test_num-1][0, :5].reshape(1,-1), test_data[test_num-1][0, 5].reshape(1,-1)\n",
    "    inputs = np.concatenate((inputs_new, train_data[test_num-1][-1, 5:35].reshape(1,-1)), axis=1)\n",
    "    test = np.concatenate((inputs, labels_new), axis=1)\n",
    "    scaler, test_scaled = test_scale(test)\n",
    "\n",
    "\n",
    "    for i in range(int(test_size[test_num-1])):\n",
    "        # make one-step forecast\n",
    "        inputs, labels = test_scaled[0, :35], test_scaled[0, 35]\n",
    "        inputs = torch.tensor(inputs)\n",
    "        labels = torch.tensor(labels)\n",
    "        inputs, labels = inputs.to(device), labels.to(device)\n",
    "        inputs = inputs.reshape(1, 1, 35)\n",
    "        inputs = inputs.to(torch.float32)\n",
    "        labels = labels.to(torch.float32)\n",
    "\n",
    "        # yhat 为预测值\n",
    "        yhat = model(inputs)\n",
    "        \n",
    "        # 逆归一化\n",
    "        yhat[0] = invert_scale(scaler, inputs.reshape(35, -1).cpu().numpy(), yhat[0].cpu().detach().numpy())\n",
    "        labels = labels_new.reshape(-1,)\n",
    "        predictions_test.append(yhat[0].cpu().detach().numpy()) # 预测值序列\n",
    "        expected.append(labels) # 真实值序列\n",
    "        inputs = inputs.reshape(1, 35)\n",
    "        inputs_new, labels_new = test_data[test_num-1][i, :5].reshape(1,-1), test_data[test_num-1][i, 5].reshape(1,-1)\n",
    "        inputs = np.concatenate((inputs_new, inputs[0, 6:35].cpu().numpy().reshape(1,-1), yhat.cpu().numpy().reshape(1,-1)), axis=1)\n",
    "        test = np.concatenate((inputs, labels_new), axis=1)\n",
    "        scaler, test_scaled = test_scale(test)\n",
    "        \n",
    "\n",
    "    # RMSE 评价指标\n",
    "    rmse_test = sqrt(mean_squared_error(np.array(expected) / 2, np.array(predictions_test) / 2))\n",
    "    print('Test RMSE: %.3f' % rmse_test)\n",
    "\n",
    "    # 保存输出结果\n",
    "    index.append(rmse_test)\n",
    "    with open(r'./result/voltage_prediction_result_test{}_new.txt'.format(test_num), 'a', encoding='utf-8') as f:\n",
    "        for j in range(len(index)):\n",
    "            f.write(str(index[j]) + \" \" + str(num_epochs) + \" \" + str(test_num) + \"\\n\")\n",
    "    with open(r'./result/voltage_prediction_data_test{}_new.txt'.format(test_num), 'a', encoding='utf-8') as f:\n",
    "        f.write('test{}'.format(test_num) + \"\\n\")\n",
    "        for k in range(len(predictions_test)):\n",
    "            f.write(str(predictions_test[k].item()) + \"\\n\")"
   ]
  },
  {
   "cell_type": "markdown",
   "metadata": {},
   "source": [
    "后处理"
   ]
  },
  {
   "cell_type": "code",
   "execution_count": 17,
   "metadata": {},
   "outputs": [
    {
     "data": {
      "image/png": "[encoded data removed]",
      "text/plain": [
       "<Figure size 640x480 with 1 Axes>"
      ]
     },
     "metadata": {},
     "output_type": "display_data"
    },
    {
     "data": {
      "image/png": "[encoded data removed]",
      "text/plain": [
       "<Figure size 640x480 with 1 Axes>"
      ]
     },
     "metadata": {},
     "output_type": "display_data"
    }
   ],
   "source": [
    "# 绘制 Voltage 预测图像\n",
    "# 创建横坐标\n",
    "data_num = len(expected)\n",
    "Cyc_X = np.linspace(0, data_num, data_num)\n",
    "fig = plt.figure()\n",
    "sub = fig.add_subplot(111) # 1*1 的网格中第一个图像\n",
    "sub.plot(expected, c='dodgerblue', label='Real Voltage', linewidth=1.5)\n",
    "sub.plot(predictions_test, c='coral', label='Predicted Voltage', linewidth=1.5)\n",
    "\n",
    "# 设置坐标轴\n",
    "ax = plt.gca()\n",
    "ax.spines['bottom'].set_linewidth(1)\n",
    "ax.spines['left'].set_linewidth(1)\n",
    "ax.spines['right'].set_linewidth(1)\n",
    "ax.spines['top'].set_linewidth(1)\n",
    "plt.tick_params(labelsize=10) # 刻度标签字体大小\n",
    "plt.legend(loc=1, edgecolor='w') # 创建图例\n",
    "plt.ylabel('U(V)')\n",
    "plt.xlabel('T(s)')\n",
    "plt.title('BiLSTM Voltage Estimation')\n",
    "plt.savefig(r'./result/Voltage_result_{}_new.png'.format(test_num))\n",
    "plt.show()\n",
    "\n",
    "\n",
    "# 绘制单次充放电循环电压输出预测\n",
    "# 创建横坐标\n",
    "start_index = [-612, -612, -532, -530, -555,-434]\n",
    "end_index = [-1, -1, -1, -1, -1, -1]\n",
    "\n",
    "data_num = len(expected[start_index[test_num-1]:end_index[test_num-1]])\n",
    "Cyc_X = np.linspace(0, data_num, data_num)\n",
    "fig = plt.figure()\n",
    "sub = fig.add_subplot(111) # 1*1 的网格中第一个图像\n",
    "sub.plot(expected[start_index[test_num-1]:end_index[test_num-1]], c='dodgerblue', label='Real Voltage', linewidth=1.5)\n",
    "sub.plot(predictions_test[start_index[test_num-1]:end_index[test_num-1]], c='coral', label='Predicted Voltage', linewidth=1.5)\n",
    "\n",
    "# 设置坐标轴\n",
    "ax = plt.gca()\n",
    "ax.spines['bottom'].set_linewidth(1)\n",
    "ax.spines['left'].set_linewidth(1)\n",
    "ax.spines['right'].set_linewidth(1)\n",
    "ax.spines['top'].set_linewidth(1)\n",
    "plt.tick_params(labelsize=10) # 刻度标签字体大小\n",
    "plt.legend(loc=1, edgecolor='w') # 创建图例\n",
    "plt.ylabel('U(V)')\n",
    "plt.xlabel('T(s)')\n",
    "plt.title('BiLSTM Voltage Estimation')\n",
    "plt.savefig(r'./result/output_voltage_{}_new.png'.format(test_num))\n",
    "plt.show()"
   ]
  }
 ],
 "metadata": {
  "kernelspec": {
   "display_name": "zjjtorch",
   "language": "python",
   "name": "python3"
  },
  "language_info": {
   "codemirror_mode": {
    "name": "ipython",
    "version": 3
   },
   "file_extension": ".py",
   "mimetype": "text/x-python",
   "name": "python",
   "nbconvert_exporter": "python",
   "pygments_lexer": "ipython3",
   "version": "3.10.13"
  }
 },
 "nbformat": 4,
 "nbformat_minor": 2
}
